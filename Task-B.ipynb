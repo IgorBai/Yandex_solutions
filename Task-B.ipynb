{
 "cells": [
  {
   "cell_type": "markdown",
   "id": "11d758bc",
   "metadata": {
    "toc": true
   },
   "source": [
    "<h1>Table of Contents<span class=\"tocSkip\"></span></h1>\n",
    "<div class=\"toc\"><ul class=\"toc-item\"><li><span><a href=\"#B.-Конфеты-на-зиму.-Условие-задачи.\" data-toc-modified-id=\"B.-Конфеты-на-зиму.-Условие-задачи.-1\"><span class=\"toc-item-num\">1&nbsp;&nbsp;</span>B. Конфеты на зиму. Условие задачи.</a></span></li><li><span><a href=\"#Решение-с-помощью-теории.\" data-toc-modified-id=\"Решение-с-помощью-теории.-2\"><span class=\"toc-item-num\">2&nbsp;&nbsp;</span>Решение с помощью теории.</a></span></li><li><span><a href=\"#Решение-с-помощью-Python.\" data-toc-modified-id=\"Решение-с-помощью-Python.-3\"><span class=\"toc-item-num\">3&nbsp;&nbsp;</span>Решение с помощью Python.</a></span></li></ul></div>"
   ]
  },
  {
   "cell_type": "markdown",
   "id": "9880e08a",
   "metadata": {},
   "source": [
    "### B. Конфеты на зиму. Условие задачи.\n",
    "\n",
    "Дядя Фёдор решил запастиcь на зиму конфетами. Для этого он попросил прислать ему 1150 самых разных конфет. Он знает, что какие-то конфеты могут ему не понравиться, поэтому заказал себе на 15% конфет больше, чем нужно. Когда к нему приехала его посылка с конфетами, он решил проверить, хватит ли ему вкусных конфет на зиму. Для этого он доставал случайную конфету, пробовал её малюсенький кусочек и клал обратно. Такую процедуру он проделывал K раз, и каждый раз оказывалось, что конфета ему нравилась. Какое минимальное K может гарантировать, что конфет Дяде Фёдору хватит на зиму с вероятность не меньше 95%, если считать, что доля вкусных конфет априори распределена равномерно?"
   ]
  },
  {
   "cell_type": "markdown",
   "id": "93e13e30",
   "metadata": {},
   "source": [
    "### Решение с помощью теории."
   ]
  },
  {
   "cell_type": "markdown",
   "id": "9719ef3d",
   "metadata": {},
   "source": [
    "Введём понятие \"качество\", т.е. доля хороших конфет внутри 1150, и пусть оно будет непрерывным х, где х пробегает значения от 0 до 1. Количество выборок - к (все они дали положительный тест). Тогда плотность вероятности $х^к$, интегрируем её от 0 до 1 и приравниваем интеграл к единице, получаем что перед интегралом нужен коэффициент (к+1):\n",
    "\n",
    "$(k+1)\\int_{0}^{1} x^k dx = 1$\n",
    "\n",
    "Если доля хороших конфет x меньше 1000/1150, то это плохо - конфет не хватит, поэтому интегрируем по всем хорошим х (от 1000/1150 до 1) и приравниваем эту вероятность к 0.95:\n",
    "\n",
    "$(k+1)\\int_{1000/1150}^{1} x^k dx = 0.95$\n",
    "\n",
    "Количество тестов \"к\" получается примерно 20.43, округляем его вверх до ближайшего целого 21."
   ]
  },
  {
   "cell_type": "markdown",
   "id": "ec4a8d7a",
   "metadata": {},
   "source": [
    "__Ответ к задаче: 21__"
   ]
  },
  {
   "cell_type": "markdown",
   "id": "344dc2cf",
   "metadata": {},
   "source": [
    "### Решение с помощью Python."
   ]
  },
  {
   "cell_type": "code",
   "execution_count": 1,
   "id": "1aa4682e",
   "metadata": {},
   "outputs": [],
   "source": [
    "def ver(k):\n",
    "    s = 0 # сумма вероятностей \"хороших\" исходов\n",
    "    for x in range(1000, 1150+1):\n",
    "        s += (x/1150) ** k\n",
    "\n",
    "    l = 0 # сумма вероятностей всех исходов\n",
    "    for x in range(0, 1150+1):\n",
    "        l += (x/1150) ** k\n",
    "\n",
    "    return s/l # вероятность хороших исходов при заданном k"
   ]
  },
  {
   "cell_type": "code",
   "execution_count": 2,
   "id": "db60170b",
   "metadata": {},
   "outputs": [
    {
     "name": "stdout",
     "output_type": "stream",
     "text": [
      "ver = 0.24527\t k = 1\n",
      "ver = 0.34433\t k = 2\n",
      "ver = 0.43038\t k = 3\n",
      "ver = 0.50514\t k = 4\n",
      "ver = 0.57009\t k = 5\n",
      "ver = 0.62652\t k = 6\n",
      "ver = 0.67553\t k = 7\n",
      "ver = 0.71812\t k = 8\n",
      "ver = 0.75512\t k = 9\n",
      "ver = 0.78726\t k = 10\n",
      "ver = 0.81518\t k = 11\n",
      "ver = 0.83944\t k = 12\n",
      "ver = 0.86051\t k = 13\n",
      "ver = 0.87882\t k = 14\n",
      "ver = 0.89472\t k = 15\n",
      "ver = 0.90854\t k = 16\n",
      "ver = 0.92054\t k = 17\n",
      "ver = 0.93097\t k = 18\n",
      "ver = 0.94003\t k = 19\n",
      "ver = 0.9479\t k = 20\n",
      "ver = 0.95474\t k = 21\n"
     ]
    }
   ],
   "source": [
    "for i in range(1,100):\n",
    "    v = ver(i)\n",
    "    print(f'ver = {round(v,5)}\\t k = {i}')\n",
    "    if v > 0.95:\n",
    "        break"
   ]
  },
  {
   "cell_type": "markdown",
   "id": "71bf0971",
   "metadata": {},
   "source": [
    "__Ответ к задаче: 21__"
   ]
  }
 ],
 "metadata": {
  "kernelspec": {
   "display_name": "Python 3 (ipykernel)",
   "language": "python",
   "name": "python3"
  },
  "language_info": {
   "codemirror_mode": {
    "name": "ipython",
    "version": 3
   },
   "file_extension": ".py",
   "mimetype": "text/x-python",
   "name": "python",
   "nbconvert_exporter": "python",
   "pygments_lexer": "ipython3",
   "version": "3.9.13"
  },
  "toc": {
   "base_numbering": 1,
   "nav_menu": {},
   "number_sections": true,
   "sideBar": true,
   "skip_h1_title": true,
   "title_cell": "Table of Contents",
   "title_sidebar": "Contents",
   "toc_cell": true,
   "toc_position": {},
   "toc_section_display": true,
   "toc_window_display": false
  }
 },
 "nbformat": 4,
 "nbformat_minor": 5
}
